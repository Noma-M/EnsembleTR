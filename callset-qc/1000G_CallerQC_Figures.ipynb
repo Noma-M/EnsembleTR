{
 "cells": [
  {
   "cell_type": "code",
   "execution_count": 2,
   "metadata": {},
   "outputs": [
    {
     "name": "stdout",
     "output_type": "stream",
     "text": [
      "Populating the interactive namespace from numpy and matplotlib\n"
     ]
    }
   ],
   "source": [
    "%pylab inline\n",
    "import os\n",
    "\n",
    "POPS = [   \"ACB\", \"ASW\", \"ESN\", \"GWD\", \"LWK\", \"MSL\", \"YRI\", \\\n",
    "           \"CLM\", \"MXL\", \"PEL\", \"PUR\", \\\n",
    "           \"CDX\", \"CHB\", \"CHS\", \"JPT\", \"KHV\", \\\n",
    "           \"CEU\", \"FIN\", \"GBR\", \"IBS\", \"TSI\", \\\n",
    "           \"BEB\", \"GIH\", \"ITU\", \"PJL\", \"STU\"]\n",
    "\n",
    "# Load config information\n",
    "#OUTDIR = os.environ[\"1KGOUTDIR\"]\n",
    "OUTDIR=\"/storage/mgymrek/1000Genomes/qc\""
   ]
  },
  {
   "cell_type": "code",
   "execution_count": 12,
   "metadata": {},
   "outputs": [
    {
     "data": {
      "image/png": "[encoded data removed]",
      "text/plain": [
       "<Figure size 432x288 with 1 Axes>"
      ]
     },
     "metadata": {
      "needs_background": "light"
     },
     "output_type": "display_data"
    }
   ],
   "source": [
    "# Num calls by period\n",
    "\n",
    "numcalls = []\n",
    "numpass = []\n",
    "for pop in POPS:\n",
    "    fname = os.path.join(OUTDIR, pop, \"%s.stats.txt\"%pop)\n",
    "    nc = 0\n",
    "    np = 0\n",
    "    if os.path.exists(fname):\n",
    "        nc, np = [int(item.strip()) for item in open(fname, \"r\").readlines()]\n",
    "    numcalls.append(nc)\n",
    "    numpass.append(np)\n",
    "\n",
    "fig = plt.figure()\n",
    "ax = fig.add_subplot(111)\n",
    "#ax.set_yscale(\"log\")\n",
    "ax.bar(range(len(POPS)), numcalls, color=\"gray\")\n",
    "ax.bar(range(len(POPS)), numpass, color=\"black\");\n",
    "ax.set_xlabel(\"\")\n",
    "ax.set_xticks(range(len(POPS)))\n",
    "ax.set_xticklabels(POPS, rotation=45, size=8)\n",
    "ax.set_ylabel(\"# STRs\");"
   ]
  },
  {
   "cell_type": "code",
   "execution_count": 22,
   "metadata": {},
   "outputs": [
    {
     "data": {
      "text/html": [
       "<div>\n",
       "<style scoped>\n",
       "    .dataframe tbody tr th:only-of-type {\n",
       "        vertical-align: middle;\n",
       "    }\n",
       "\n",
       "    .dataframe tbody tr th {\n",
       "        vertical-align: top;\n",
       "    }\n",
       "\n",
       "    .dataframe thead th {\n",
       "        text-align: right;\n",
       "    }\n",
       "</style>\n",
       "<table border=\"1\" class=\"dataframe\">\n",
       "  <thead>\n",
       "    <tr style=\"text-align: right;\">\n",
       "      <th></th>\n",
       "      <th>period</th>\n",
       "      <th>numtrios</th>\n",
       "      <th>num_consistent</th>\n",
       "      <th>num_inf_consistent</th>\n",
       "      <th>num_inconsistent</th>\n",
       "      <th>mi_all</th>\n",
       "      <th>mi_inf</th>\n",
       "    </tr>\n",
       "  </thead>\n",
       "  <tbody>\n",
       "    <tr>\n",
       "      <td>0</td>\n",
       "      <td>1</td>\n",
       "      <td>247821736</td>\n",
       "      <td>241248833</td>\n",
       "      <td>148877585</td>\n",
       "      <td>6572903</td>\n",
       "      <td>0.973477</td>\n",
       "      <td>0.957717</td>\n",
       "    </tr>\n",
       "    <tr>\n",
       "      <td>1</td>\n",
       "      <td>2</td>\n",
       "      <td>88559027</td>\n",
       "      <td>85398443</td>\n",
       "      <td>37984253</td>\n",
       "      <td>3160584</td>\n",
       "      <td>0.964311</td>\n",
       "      <td>0.923184</td>\n",
       "    </tr>\n",
       "    <tr>\n",
       "      <td>2</td>\n",
       "      <td>3</td>\n",
       "      <td>78401249</td>\n",
       "      <td>77999988</td>\n",
       "      <td>6776094</td>\n",
       "      <td>401261</td>\n",
       "      <td>0.994882</td>\n",
       "      <td>0.944093</td>\n",
       "    </tr>\n",
       "    <tr>\n",
       "      <td>3</td>\n",
       "      <td>4</td>\n",
       "      <td>199269224</td>\n",
       "      <td>198276937</td>\n",
       "      <td>16757153</td>\n",
       "      <td>992287</td>\n",
       "      <td>0.995020</td>\n",
       "      <td>0.944095</td>\n",
       "    </tr>\n",
       "    <tr>\n",
       "      <td>4</td>\n",
       "      <td>5</td>\n",
       "      <td>54256959</td>\n",
       "      <td>53988499</td>\n",
       "      <td>4121548</td>\n",
       "      <td>268460</td>\n",
       "      <td>0.995052</td>\n",
       "      <td>0.938847</td>\n",
       "    </tr>\n",
       "    <tr>\n",
       "      <td>5</td>\n",
       "      <td>6</td>\n",
       "      <td>14129824</td>\n",
       "      <td>14068171</td>\n",
       "      <td>934447</td>\n",
       "      <td>61653</td>\n",
       "      <td>0.995637</td>\n",
       "      <td>0.938106</td>\n",
       "    </tr>\n",
       "  </tbody>\n",
       "</table>\n",
       "</div>"
      ],
      "text/plain": [
       "   period   numtrios  num_consistent  num_inf_consistent  num_inconsistent  \\\n",
       "0       1  247821736       241248833           148877585           6572903   \n",
       "1       2   88559027        85398443            37984253           3160584   \n",
       "2       3   78401249        77999988             6776094            401261   \n",
       "3       4  199269224       198276937            16757153            992287   \n",
       "4       5   54256959        53988499             4121548            268460   \n",
       "5       6   14129824        14068171              934447             61653   \n",
       "\n",
       "     mi_all    mi_inf  \n",
       "0  0.973477  0.957717  \n",
       "1  0.964311  0.923184  \n",
       "2  0.994882  0.944093  \n",
       "3  0.995020  0.944095  \n",
       "4  0.995052  0.938847  \n",
       "5  0.995637  0.938106  "
      ]
     },
     "execution_count": 22,
     "metadata": {},
     "output_type": "execute_result"
    },
    {
     "data": {
      "image/png": "[encoded data removed]",
      "text/plain": [
       "<Figure size 432x288 with 1 Axes>"
      ]
     },
     "metadata": {
      "needs_background": "light"
     },
     "output_type": "display_data"
    }
   ],
   "source": [
    "# MI by period combined\n",
    "\n",
    "import pandas as pd\n",
    "mend = pd.read_csv(os.path.join(OUTDIR, \"mend.txt\"), sep=\"\\t\")\n",
    "\n",
    "PERCOLORS = [\"gray\",\"red\",\"gold\",\"blue\",\"green\",\"purple\"]\n",
    "w=0.3\n",
    "fig = plt.figure()\n",
    "ax = fig.add_subplot(111)\n",
    "ax.bar(range(mend.shape[0]), 1-mend[\"mi_all\"], color=PERCOLORS, width=w)\n",
    "ax.bar([item+w for item in range(mend.shape[0])], 1-mend[\"mi_inf\"], color=\"white\", edgecolor=PERCOLORS, width=w)\n",
    "ax.set_xticks([item+w/2 for item in range(mend.shape[0])])\n",
    "ax.set_xticklabels(range(1, 7), size=12)\n",
    "ax.set_ylabel(\"Mend. error rate\", size=15)\n",
    "ax.set_xlabel(\"Repeat unit length\", size=15)\n",
    "\n",
    "ax.spines['right'].set_visible(False)\n",
    "ax.spines['top'].set_visible(False)\n",
    "ax.yaxis.set_ticks_position('left')\n",
    "ax.xaxis.set_ticks_position('bottom')\n",
    "mend"
   ]
  },
  {
   "cell_type": "code",
   "execution_count": null,
   "metadata": {},
   "outputs": [],
   "source": [
    "# Num common alleles by pop - TODO"
   ]
  }
 ],
 "metadata": {
  "kernelspec": {
   "display_name": "Python 3",
   "language": "python",
   "name": "python3"
  },
  "language_info": {
   "codemirror_mode": {
    "name": "ipython",
    "version": 3
   },
   "file_extension": ".py",
   "mimetype": "text/x-python",
   "name": "python",
   "nbconvert_exporter": "python",
   "pygments_lexer": "ipython3",
   "version": "3.7.4"
  }
 },
 "nbformat": 4,
 "nbformat_minor": 4
}
